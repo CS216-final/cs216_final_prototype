{
 "cells": [
  {
   "cell_type": "code",
   "execution_count": 178,
   "metadata": {},
   "outputs": [],
   "source": [
    "import os \n",
    "import pandas as pd \n",
    "import itertools\n",
    "    "
   ]
  },
  {
   "cell_type": "code",
   "execution_count": 179,
   "metadata": {},
   "outputs": [],
   "source": [
    "def preprocess(data, info):\n",
    "    a = data.copy()\n",
    "    a = a.rename(columns={\"First Tooltip\": info})\n",
    "\n",
    "    \"\"\"    \n",
    "    if (\"Dim1\" in a.columns.values):\n",
    "        a['Both sexes'] = (a['Dim1'] == \"Both sexes\").replace({False:0, True:1})\n",
    "        a['Male'] = (a['Dim1'] == \"Male\").replace({False:0, True:1})\n",
    "        a['Female'] = (a['Dim1'] == \"Female\").replace({False:0, True:1})\n",
    "    else:\n",
    "        a['Both sexes'] = (a['Location'] != \"Both sexes\").replace({False:0, True:1})\n",
    "        a['Male'] = (a['Location'] != \"Male\").replace({False:0, True:1})\n",
    "        a['Female'] = (a['Location'] != \"Female\").replace({False:0, True:1})\n",
    "    \"\"\"\n",
    "\n",
    "     \n",
    "    data_2015 = a[a[\"Period\"] == 2015]\n",
    "    \n",
    "    data_2016 = a[a[\"Period\"] == 2016]\n",
    "    \n",
    "    data_2017 = a[a[\"Period\"] == 2017]\n",
    "    \n",
    "    data_2018 = a[a[\"Period\"] == 2018]\n",
    "    \n",
    "    data_2019 = a[a[\"Period\"] == 2019]\n",
    "    \n",
    "    data_2020 = a[a[\"Period\"] == 2020]\n",
    "    \n",
    "    data_2021 = a[a[\"Period\"] == 2021]\n",
    "\n",
    "    year_dic = {'2015':data_2015,'2016':data_2016,'2017':data_2017,'2018':data_2018,\n",
    "                '2019':data_2019,'2020':data_2020,'2021':data_2021}\n",
    "    \n",
    "    if(\"Dim1\" in a.columns.values):\n",
    "        for key,df in year_dic.items():\n",
    "            temp = df.groupby(\"Location\").mean()\n",
    "            temp.reset_index(inplace=True)\n",
    "            temp = temp.loc[:, ['Location', info]]\n",
    "            year_dic[key] = temp\n",
    "    \n",
    "    else:\n",
    "        for key,df in year_dic.items():\n",
    "            temp = df.loc[:, ['Location', info]]\n",
    "            year_dic[key] = temp\n",
    "    return year_dic\n"
   ]
  },
  {
   "cell_type": "code",
   "execution_count": 180,
   "metadata": {},
   "outputs": [],
   "source": [
    "def merge_dic(data_lst):\n",
    "\n",
    "    year_lst = [str(i) for i in range(2015,2022)]\n",
    "    result = []\n",
    "    for year in year_lst:\n",
    "        temp = None\n",
    "        indicator = False\n",
    "        for variable_dict in data_lst: \n",
    "            if indicator == False:\n",
    "                temp = variable_dict[year]\n",
    "                indicator = True\n",
    "            else:          \n",
    "                temp = pd.merge(temp, variable_dict[year], on = \"Location\")\n",
    "           \n",
    "        result.append(temp)\n",
    "    return result"
   ]
  },
  {
   "cell_type": "code",
   "execution_count": 181,
   "metadata": {},
   "outputs": [],
   "source": [
    "def read_data():\n",
    "    data_lst = []\n",
    "\n",
    "    for info in os.listdir(\"World Health Statistics 2020\"): \n",
    "\n",
    "        if info == \".DS_Store\":\n",
    "            continue\n",
    "        domain = os.path.abspath(r\"World Health Statistics 2020\")\n",
    "        dirc = os.path.join(domain,info)\n",
    "        data = pd.read_csv(dirc)\n",
    "        \n",
    "        data_lst.append([data, info])\n",
    "    return data_lst\n"
   ]
  },
  {
   "cell_type": "code",
   "execution_count": 182,
   "metadata": {},
   "outputs": [],
   "source": [
    "def run_proprocess(data_lst):\n",
    "    result = []\n",
    "    for [data, info] in data_lst:\n",
    "        temp = preprocess(data, info)\n",
    "        result.append(temp)\n",
    "    return result"
   ]
  },
  {
   "cell_type": "code",
   "execution_count": 223,
   "metadata": {},
   "outputs": [],
   "source": [
    "def main():\n",
    "    raw_data = read_data()\n",
    "    test = []\n",
    "    comb = []\n",
    "    for L in range(0, len(raw_data)+1):\n",
    "        for subset in itertools.combinations(raw_data, L):\n",
    "            if(len(subset) != 0):\n",
    "                data_lst = subset\n",
    "                data_lst = run_proprocess(data_lst)\n",
    "                result = merge_dic(data_lst)\n",
    "                count = 0\n",
    "                for i in result:\n",
    "                    count += i.shape[0]\n",
    "                test.append([len(subset), count])\n",
    "                comb.append(subset)\n",
    "    return [test,comb]\n",
    " "
   ]
  },
  {
   "cell_type": "code",
   "execution_count": 224,
   "metadata": {},
   "outputs": [],
   "source": [
    "[test, comb] = main()"
   ]
  },
  {
   "cell_type": "code",
   "execution_count": 225,
   "metadata": {},
   "outputs": [
    {
     "data": {
      "text/plain": [
       "[[1, 376], [1, 366], [2, 182]]"
      ]
     },
     "execution_count": 225,
     "metadata": {},
     "output_type": "execute_result"
    }
   ],
   "source": [
    "test"
   ]
  },
  {
   "cell_type": "code",
   "execution_count": null,
   "metadata": {},
   "outputs": [],
   "source": []
  }
 ],
 "metadata": {
  "kernelspec": {
   "display_name": "Python 3",
   "language": "python",
   "name": "python3"
  },
  "language_info": {
   "codemirror_mode": {
    "name": "ipython",
    "version": 3
   },
   "file_extension": ".py",
   "mimetype": "text/x-python",
   "name": "python",
   "nbconvert_exporter": "python",
   "pygments_lexer": "ipython3",
   "version": "3.7.6"
  }
 },
 "nbformat": 4,
 "nbformat_minor": 4
}
